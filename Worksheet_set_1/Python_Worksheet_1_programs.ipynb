{
 "cells": [
  {
   "cell_type": "code",
   "execution_count": 3,
   "id": "cfba49a5",
   "metadata": {},
   "outputs": [
    {
     "name": "stdout",
     "output_type": "stream",
     "text": [
      "The factorial of  5  is  120\n"
     ]
    }
   ],
   "source": [
    "# 11. Write a python program to find the factorial of a number.\n",
    "\n",
    "number=5\n",
    "\n",
    "#number = int(input(\"Enter a number: \"))\n",
    "#above statment is take input from user\n",
    "\n",
    "fact=1\n",
    "\n",
    "if number<0:\n",
    "    print(\"Invalid Number,factorial does not exist for negative numbers\")\n",
    "elif number==0:\n",
    "    print(\"The factorial of 0 is always 1\")\n",
    "else:\n",
    "    for i in range(1,number+1):\n",
    "        fact=fact*i\n",
    "    print(\"The factorial of \",number,\" is \",fact)\n"
   ]
  },
  {
   "cell_type": "code",
   "execution_count": 8,
   "id": "2c09d8a9",
   "metadata": {},
   "outputs": [
    {
     "name": "stdout",
     "output_type": "stream",
     "text": [
      "5  is prime number\n"
     ]
    }
   ],
   "source": [
    "# 12. Write a python program to find whether a number is prime or composite\n",
    "\n",
    "number=5\n",
    "\n",
    "#number = int(input(\"Enter a number: \"))\n",
    "#above statment is take input from user\n",
    "\n",
    "if number==0 or number==1:\n",
    "    print(number,\"is neither prime number nor composite number\")\n",
    "elif number<0:\n",
    "    print(\"Please enter positive number only\")\n",
    "else:\n",
    "    for i in range(2,number):\n",
    "        if(number%i==0):\n",
    "            print(number,\" is composite number\")\n",
    "            break\n",
    "        else:\n",
    "            print(number,\" is prime number\")\n",
    "            break\n"
   ]
  },
  {
   "cell_type": "code",
   "execution_count": 17,
   "id": "4ab2020b",
   "metadata": {},
   "outputs": [
    {
     "name": "stdout",
     "output_type": "stream",
     "text": [
      "yes\n",
      "yes\n"
     ]
    }
   ],
   "source": [
    "# 13. Write a python program to check whether a given string is palindrome or no\n",
    "\n",
    "name=\"mam\"\n",
    "\n",
    "if name==name[::-1]:\n",
    "    print(\"yes\")\n",
    "else:\n",
    "    print(\"no\")\n",
    "\n",
    "#or\n",
    "\n",
    "for i in range(0,int(len(name)/2)):\n",
    "    if name[i]!=name[len(name)-i-1]:\n",
    "        print(\"no\")\n",
    "        break\n",
    "    else:\n",
    "        print(\"yes\")\n",
    "        break\n"
   ]
  },
  {
   "cell_type": "code",
   "execution_count": 18,
   "id": "7dc892ad",
   "metadata": {},
   "outputs": [
    {
     "name": "stdout",
     "output_type": "stream",
     "text": [
      "Hypotenuse = 5.0\n"
     ]
    }
   ],
   "source": [
    "# 14. Write a Python program to get the third side of right-angled triangle from two given sides\n",
    "\n",
    "def calculatePythagoras(base,altitude,hypotenuse):\n",
    "        if base == str(\"x\"):\n",
    "            return (\"Base = \" + str(((hypotenuse**2) - (altitude**2))**0.5))\n",
    "        elif altitude == str(\"x\"):\n",
    "            return (\"Altitude = \" + str(((hypotenuse**2) - (base**2))**0.5))\n",
    "        elif hypotenuse == str(\"x\"):\n",
    "            return (\"Hypotenuse = \" + str(((base**2) + (altitude**2))**0.5))\n",
    "        else:\n",
    "            return \"Invalide Input\"\n",
    "    \n",
    "print(calculatePythagoras(3,4,'x'))"
   ]
  },
  {
   "cell_type": "code",
   "execution_count": 21,
   "id": "f5f5ddfe",
   "metadata": {},
   "outputs": [
    {
     "name": "stdout",
     "output_type": "stream",
     "text": [
      "Count for all character in  Kundan Kumar Kaushik  are :\n",
      " {'K': 3, 'u': 3, 'n': 2, 'd': 1, 'a': 3, ' ': 2, 'm': 1, 'r': 1, 's': 1, 'h': 1, 'i': 1, 'k': 1}\n"
     ]
    }
   ],
   "source": [
    "# 15. Write a python program to print the frequency of each of the characters present in a given string\n",
    "\n",
    "name=\"Kundan Kumar Kaushik\"\n",
    "\n",
    "all_frequency_with_count={}\n",
    "\n",
    "for i in name:\n",
    "    if i in all_frequency_with_count:\n",
    "        all_frequency_with_count[i]+=1\n",
    "    else:\n",
    "        all_frequency_with_count[i]=1\n",
    "        \n",
    "print(\"Count for all character in \",name,\" are :\\n\",str(all_frequency_with_count))"
   ]
  },
  {
   "cell_type": "code",
   "execution_count": null,
   "id": "93861cd4",
   "metadata": {},
   "outputs": [],
   "source": []
  }
 ],
 "metadata": {
  "kernelspec": {
   "display_name": "Python 3 (ipykernel)",
   "language": "python",
   "name": "python3"
  },
  "language_info": {
   "codemirror_mode": {
    "name": "ipython",
    "version": 3
   },
   "file_extension": ".py",
   "mimetype": "text/x-python",
   "name": "python",
   "nbconvert_exporter": "python",
   "pygments_lexer": "ipython3",
   "version": "3.9.7"
  }
 },
 "nbformat": 4,
 "nbformat_minor": 5
}
